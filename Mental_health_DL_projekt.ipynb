{
 "cells": [
  {
   "cell_type": "markdown",
   "id": "cad12288",
   "metadata": {},
   "source": [
    "# Deep Learning Projekt"
   ]
  },
  {
   "cell_type": "markdown",
   "id": "ae80a503",
   "metadata": {},
   "source": [
    "## Korpus für psychische Gesundheit"
   ]
  },
  {
   "cell_type": "markdown",
   "id": "0fd489cf",
   "metadata": {},
   "source": [
    "### Über Dataset"
   ]
  },
  {
   "cell_type": "markdown",
   "id": "e50817f5",
   "metadata": {},
   "source": [
    "Das Korpus für psychische Gesundheit ist eine Sammlung von Texten, die sich auf Menschen mit Angstzuständen, Depressionen\n",
    "und anderen psychischen Problemen beziehen.\n",
    "\n",
    "Das Korpus besteht aus zwei Spalten: eine enthält die Kommentare und die andere\n",
    "enthält Beschriftungen bzw. Labels, die angeben, ob die Kommentare als negatives- oder Positives Sentiment angesehen werden. Das Korpus kann für eine \n",
    "Vielzahl von Zwecken verwendet werden.In diesem Projekt werde ich für die Stimmungsanalyse benutzen.Diese Daten im Korpus können für\n",
    "Forscher, Fachleute für psychische Gesundheit und andere nützlich sein, die daran interessiert sind, die Sprache und \n",
    "Stimmung im Zusammenhang mit psychischen Gesundheitsproblemen zu verstehen."
   ]
  },
  {
   "cell_type": "markdown",
   "id": "28ee5407",
   "metadata": {},
   "source": [
    "**Die Beschriftungen sind so definiert:\"1\" bedeutet, dass es sich um einen Kommentar handelt, der mit psychischen Problemen vergiftet ist (-ve Stimmung), und \"0\" bedeutet, dass es nicht berücksichtigt wird ( +ve Stimmung).**"
   ]
  },
  {
   "cell_type": "markdown",
   "id": "6d1ab230",
   "metadata": {},
   "source": [
    "**Fragestellung:**\n",
    "\n",
    "Anhand einer **Klassifikationsmodel** mit hilfe von Deep Learning Neuronalen Netzwerken dieser Daten klassifizieren. Das Model wird verwendet, \n",
    "die Stimmung im Zusammenhang mit psychischen Gesundheitsproblemen zu verstehn. \n",
    "Dafür werde ich Keras verwenden, eine High-Level-API für neuronale Netzwerke, die auf Low-Level-APIs für neuronale Netzwerke wie Tensorflow und Theano aufbaut. Darüber hinaus werde ich Sklearn und matplotlib verwenden. "
   ]
  },
  {
   "cell_type": "markdown",
   "id": "432bde43",
   "metadata": {},
   "source": [
    "Quelle des Datensatzes\n",
    "Kaggle: https://www.kaggle.com/datasets/reihanenamdari/mental-health-corpus"
   ]
  },
  {
   "cell_type": "code",
   "execution_count": 2,
   "id": "1102dceb",
   "metadata": {},
   "outputs": [],
   "source": [
    "# notwendige machine learning Frameworks importieren:\n",
    "import numpy as np\n",
    "import pandas as pd\n",
    "import matplotlib.pyplot as plt\n",
    "import tensorflow as tf\n",
    "import tensorflow_hub as hub\n",
    "import time\n",
    "\n",
    "from tensorflow import keras\n",
    "from sklearn.model_selection import train_test_split\n",
    "from sklearn.isotonic import IsotonicRegression\n",
    "from sklearn.calibration import calibration_curve\n",
    "from sklearn.metrics import recall_score\n",
    "from sklearn.metrics import confusion_matrix, ConfusionMatrixDisplay\n",
    "from nltk.tokenize import word_tokenize\n",
    "from mpl_toolkits.mplot3d import Axes3D\n",
    "from dataprep.clean import clean_text \n",
    "\n",
    "from tensorflow.keras.callbacks import Callback\n",
    "from tensorflow.keras.callbacks import History\n",
    "\n",
    "from tqdm.keras import TqdmCallback\n",
    "import keras_tuner as kt"
   ]
  },
  {
   "cell_type": "markdown",
   "id": "d02e2a3b",
   "metadata": {},
   "source": [
    "## Datensatz einlesen"
   ]
  },
  {
   "cell_type": "code",
   "execution_count": 3,
   "id": "86dd8a85",
   "metadata": {},
   "outputs": [],
   "source": [
    "#hiermit erkenne ich das Trennzeichen \n",
    "df_m = pd.read_csv(\"mental_health.csv\", sep=\"/n\",\n",
    "                   engine='python', nrows=2)"
   ]
  },
  {
   "cell_type": "code",
   "execution_count": 4,
   "id": "102aa050",
   "metadata": {},
   "outputs": [
    {
     "data": {
      "text/html": [
       "<div>\n",
       "<style scoped>\n",
       "    .dataframe tbody tr th:only-of-type {\n",
       "        vertical-align: middle;\n",
       "    }\n",
       "\n",
       "    .dataframe tbody tr th {\n",
       "        vertical-align: top;\n",
       "    }\n",
       "\n",
       "    .dataframe thead th {\n",
       "        text-align: right;\n",
       "    }\n",
       "</style>\n",
       "<table border=\"1\" class=\"dataframe\">\n",
       "  <thead>\n",
       "    <tr style=\"text-align: right;\">\n",
       "      <th></th>\n",
       "      <th>text,label</th>\n",
       "    </tr>\n",
       "  </thead>\n",
       "  <tbody>\n",
       "    <tr>\n",
       "      <th>0</th>\n",
       "      <td>dear american teens question dutch person hear...</td>\n",
       "    </tr>\n",
       "    <tr>\n",
       "      <th>1</th>\n",
       "      <td>nothing look forward lifei dont many reasons k...</td>\n",
       "    </tr>\n",
       "  </tbody>\n",
       "</table>\n",
       "</div>"
      ],
      "text/plain": [
       "                                          text,label\n",
       "0  dear american teens question dutch person hear...\n",
       "1  nothing look forward lifei dont many reasons k..."
      ]
     },
     "execution_count": 4,
     "metadata": {},
     "output_type": "execute_result"
    }
   ],
   "source": [
    "df_m.head(4)"
   ]
  },
  {
   "cell_type": "code",
   "execution_count": 5,
   "id": "3a1448cd",
   "metadata": {},
   "outputs": [
    {
     "data": {
      "text/html": [
       "<div>\n",
       "<style scoped>\n",
       "    .dataframe tbody tr th:only-of-type {\n",
       "        vertical-align: middle;\n",
       "    }\n",
       "\n",
       "    .dataframe tbody tr th {\n",
       "        vertical-align: top;\n",
       "    }\n",
       "\n",
       "    .dataframe thead th {\n",
       "        text-align: right;\n",
       "    }\n",
       "</style>\n",
       "<table border=\"1\" class=\"dataframe\">\n",
       "  <thead>\n",
       "    <tr style=\"text-align: right;\">\n",
       "      <th></th>\n",
       "      <th>text</th>\n",
       "      <th>label</th>\n",
       "    </tr>\n",
       "  </thead>\n",
       "  <tbody>\n",
       "    <tr>\n",
       "      <th>0</th>\n",
       "      <td>dear american teens question dutch person hear...</td>\n",
       "      <td>0</td>\n",
       "    </tr>\n",
       "    <tr>\n",
       "      <th>1</th>\n",
       "      <td>nothing look forward lifei dont many reasons k...</td>\n",
       "      <td>1</td>\n",
       "    </tr>\n",
       "    <tr>\n",
       "      <th>2</th>\n",
       "      <td>music recommendations im looking expand playli...</td>\n",
       "      <td>0</td>\n",
       "    </tr>\n",
       "    <tr>\n",
       "      <th>3</th>\n",
       "      <td>im done trying feel betterthe reason im still ...</td>\n",
       "      <td>1</td>\n",
       "    </tr>\n",
       "    <tr>\n",
       "      <th>4</th>\n",
       "      <td>worried  year old girl subject domestic physic...</td>\n",
       "      <td>1</td>\n",
       "    </tr>\n",
       "    <tr>\n",
       "      <th>5</th>\n",
       "      <td>hey rredflag sure right place post this goes  ...</td>\n",
       "      <td>1</td>\n",
       "    </tr>\n",
       "    <tr>\n",
       "      <th>6</th>\n",
       "      <td>feel like someone needs hear tonight feeling r...</td>\n",
       "      <td>0</td>\n",
       "    </tr>\n",
       "    <tr>\n",
       "      <th>7</th>\n",
       "      <td>deserve liveif died right noone would carei re...</td>\n",
       "      <td>1</td>\n",
       "    </tr>\n",
       "    <tr>\n",
       "      <th>8</th>\n",
       "      <td>feels good ive set dateim killing friday nice ...</td>\n",
       "      <td>1</td>\n",
       "    </tr>\n",
       "    <tr>\n",
       "      <th>9</th>\n",
       "      <td>live guiltok made stupid random choice  its ge...</td>\n",
       "      <td>1</td>\n",
       "    </tr>\n",
       "    <tr>\n",
       "      <th>10</th>\n",
       "      <td>excercise motivated ngl cant wait get shape kn...</td>\n",
       "      <td>0</td>\n",
       "    </tr>\n",
       "    <tr>\n",
       "      <th>11</th>\n",
       "      <td>know youd rather laid big booty body hella pos...</td>\n",
       "      <td>0</td>\n",
       "    </tr>\n",
       "    <tr>\n",
       "      <th>12</th>\n",
       "      <td>even time fuck  supposed mean</td>\n",
       "      <td>0</td>\n",
       "    </tr>\n",
       "    <tr>\n",
       "      <th>13</th>\n",
       "      <td>usual hollywood stereotyped everyone movie but...</td>\n",
       "      <td>0</td>\n",
       "    </tr>\n",
       "  </tbody>\n",
       "</table>\n",
       "</div>"
      ],
      "text/plain": [
       "                                                 text  label\n",
       "0   dear american teens question dutch person hear...      0\n",
       "1   nothing look forward lifei dont many reasons k...      1\n",
       "2   music recommendations im looking expand playli...      0\n",
       "3   im done trying feel betterthe reason im still ...      1\n",
       "4   worried  year old girl subject domestic physic...      1\n",
       "5   hey rredflag sure right place post this goes  ...      1\n",
       "6   feel like someone needs hear tonight feeling r...      0\n",
       "7   deserve liveif died right noone would carei re...      1\n",
       "8   feels good ive set dateim killing friday nice ...      1\n",
       "9   live guiltok made stupid random choice  its ge...      1\n",
       "10  excercise motivated ngl cant wait get shape kn...      0\n",
       "11  know youd rather laid big booty body hella pos...      0\n",
       "12                      even time fuck  supposed mean      0\n",
       "13  usual hollywood stereotyped everyone movie but...      0"
      ]
     },
     "execution_count": 5,
     "metadata": {},
     "output_type": "execute_result"
    }
   ],
   "source": [
    "# Daten einlesen\n",
    "df_m = pd.read_csv('mental_health.csv', sep=',', encoding='ISO-8859-1')\n",
    "df_m.head(14)"
   ]
  },
  {
   "cell_type": "code",
   "execution_count": 6,
   "id": "143892a4",
   "metadata": {},
   "outputs": [
    {
     "data": {
      "text/plain": [
       "(27977, 2)"
      ]
     },
     "execution_count": 6,
     "metadata": {},
     "output_type": "execute_result"
    }
   ],
   "source": [
    "# Datensatz besteht aus 27977 zeilen und 2 Spalten\n",
    "type(df_m) #pandas core Dataframe\n",
    "df_m.shape"
   ]
  },
  {
   "cell_type": "code",
   "execution_count": 7,
   "id": "2ec3ec43",
   "metadata": {},
   "outputs": [
    {
     "data": {
      "text/plain": [
       "text     object\n",
       "label     int64\n",
       "dtype: object"
      ]
     },
     "execution_count": 7,
     "metadata": {},
     "output_type": "execute_result"
    }
   ],
   "source": [
    "#dadurch werde ich nach daten typen von den Spalten ausgeben lassen.\n",
    "df_m.dtypes"
   ]
  },
  {
   "cell_type": "code",
   "execution_count": 8,
   "id": "dc90c1aa",
   "metadata": {},
   "outputs": [
    {
     "data": {
      "text/plain": [
       "text     0\n",
       "label    0\n",
       "dtype: int64"
      ]
     },
     "execution_count": 8,
     "metadata": {},
     "output_type": "execute_result"
    }
   ],
   "source": [
    "df_m.isnull().sum()"
   ]
  },
  {
   "cell_type": "code",
   "execution_count": 9,
   "id": "8560f593",
   "metadata": {},
   "outputs": [
    {
     "data": {
      "text/plain": [
       "label\n",
       "0    14139\n",
       "1    13838\n",
       "dtype: int64"
      ]
     },
     "execution_count": 9,
     "metadata": {},
     "output_type": "execute_result"
    }
   ],
   "source": [
    "#Gruppiert nach label\n",
    "df_m_gr=df_m.groupby('label').size()\n",
    "df_m_gr"
   ]
  },
  {
   "cell_type": "code",
   "execution_count": 10,
   "id": "154de052",
   "metadata": {},
   "outputs": [
    {
     "data": {
      "text/plain": [
       "label\n",
       "0    0.505379\n",
       "1    0.494621\n",
       "dtype: float64"
      ]
     },
     "execution_count": 10,
     "metadata": {},
     "output_type": "execute_result"
    }
   ],
   "source": [
    "#Prozentuale Anteil zurückgeben\n",
    "df_m_gr/len(df_m)"
   ]
  },
  {
   "cell_type": "markdown",
   "id": "cd5d4ddd",
   "metadata": {},
   "source": [
    "**Zwieschen Fazit:**\n",
    "Da die klassen ungefähr gleich verteilt sind, spricht man hier von Balanced Dataset. D.h, dass es ungefähr gleich viele Beispiele für positive und negative Texte gibt. Dies ist wichtig, da es dazu beiträgt, dass das Modell nicht von einer Überrepräsentation einer bestimmten Kategorie beeinflusst wird und somit eine genauere Vorhersage treffen kann. "
   ]
  },
  {
   "cell_type": "code",
   "execution_count": 11,
   "id": "0ae5fd93",
   "metadata": {},
   "outputs": [
    {
     "data": {
      "text/plain": [
       "array([0, 1, 0, 1, 1, 1, 0, 1, 1, 1], dtype=object)"
      ]
     },
     "execution_count": 11,
     "metadata": {},
     "output_type": "execute_result"
    }
   ],
   "source": [
    "#Gesamte Data Frame in np.ndarray umwandeln\n",
    "mh=df_m.to_numpy()\n",
    "mh[:10, 1]\n",
    "# mh.shape"
   ]
  },
  {
   "cell_type": "code",
   "execution_count": 12,
   "id": "08dadbde",
   "metadata": {},
   "outputs": [],
   "source": [
    "#Die Texte des korpus in Spalte 0 als Merkmal festlegen\n",
    "#Die Sentimentbeurteilung in Spalte 1 als Label festlegen\n",
    "X= mh[:,0] #merkmale\n",
    "y=mh[:,1].astype('float32') #label"
   ]
  },
  {
   "cell_type": "markdown",
   "id": "9573da0a",
   "metadata": {},
   "source": [
    "\n"
   ]
  },
  {
   "cell_type": "code",
   "execution_count": 13,
   "id": "569511dd",
   "metadata": {},
   "outputs": [],
   "source": [
    "# Datensatz in Trainings- und Testdaten aufteilen\n",
    "X_train, X_test, y_train, y_test = train_test_split(X, y, test_size=0.2)"
   ]
  },
  {
   "cell_type": "code",
   "execution_count": 14,
   "id": "aaa18a60",
   "metadata": {},
   "outputs": [
    {
     "data": {
      "text/plain": [
       "(5596,)"
      ]
     },
     "execution_count": 14,
     "metadata": {},
     "output_type": "execute_result"
    }
   ],
   "source": [
    "X_train.shape\n",
    "X_test.shape\n",
    "# y_test.shape"
   ]
  },
  {
   "cell_type": "markdown",
   "id": "e888425f",
   "metadata": {},
   "source": [
    "## Text tokenization utility class.\n",
    "\n",
    "Es gibt verschiedene Tokenizer. Für die Sentimentanalyse verwendet man häufig den Wort-Tokenizer.\n",
    "\n",
    "**Wort-Tokenizer: Diese Tokenizer teilen den Text in einzelne Wörter auf.**"
   ]
  },
  {
   "cell_type": "code",
   "execution_count": 137,
   "id": "235cf7be",
   "metadata": {},
   "outputs": [],
   "source": [
    "num_words = 5000 # Das Dictionary auf die 5000 häufigsten Wörter reduziert\n",
    "tokenizer = keras.preprocessing.text.Tokenizer(\n",
    "    num_words=num_words,\n",
    "    lower=True,\n",
    "    filters='!\"#$%&()*+,-./:;<=>?@[\\\\]^_`{|}~\\t\\n')"
   ]
  },
  {
   "cell_type": "code",
   "execution_count": 138,
   "id": "5629140d",
   "metadata": {},
   "outputs": [
    {
     "data": {
      "text/plain": [
       "<keras.preprocessing.text.Tokenizer at 0x15808d54430>"
      ]
     },
     "execution_count": 138,
     "metadata": {},
     "output_type": "execute_result"
    }
   ],
   "source": [
    "# Der Tokenizer wird nur auf den Trainingsdaten gefittet\n",
    "tokenizer.fit_on_texts(X_train)\n",
    "tokenizer"
   ]
  },
  {
   "cell_type": "code",
   "execution_count": 139,
   "id": "596e8a12",
   "metadata": {},
   "outputs": [
    {
     "data": {
      "text/plain": [
       "64023"
      ]
     },
     "execution_count": 139,
     "metadata": {},
     "output_type": "execute_result"
    }
   ],
   "source": [
    "#length der Tokenizer ausgeben\n",
    "len(tokenizer.word_index)"
   ]
  },
  {
   "cell_type": "code",
   "execution_count": 140,
   "id": "75c6ab3b",
   "metadata": {},
   "outputs": [],
   "source": [
    "##obwohl die Anzahl der Wörter auf 5000 beschränkt wurde, wird trotzdem 64238 zurrückgeliefert. \n",
    "#Bei der Anwendung werde ich jedoch nur diese 5000 Wörter benutzt."
   ]
  },
  {
   "cell_type": "code",
   "execution_count": 141,
   "id": "7fa070d6",
   "metadata": {},
   "outputs": [],
   "source": [
    "#nur die Keys des Dictionaries ausgeben\n",
    "# tokenizer.word_index.keys()"
   ]
  },
  {
   "cell_type": "markdown",
   "id": "70a0239a",
   "metadata": {},
   "source": [
    "## texts_to_sequences \n",
    "\n",
    "Wandelt jeden Text in texts anhand des Dictionaries in eine Folge von ganzen Zahlen um. Wörter, die im Dictionary nicht vorkommen, werden als 1 repäsentiert\n",
    "damit werden die keys anhand von der Dictionary werte zugewiesen. Den Tokenizer auf die Trainings- und Testadaten separat anwenden"
   ]
  },
  {
   "cell_type": "code",
   "execution_count": 142,
   "id": "d7fda6d5",
   "metadata": {},
   "outputs": [],
   "source": [
    "X_train = tokenizer.texts_to_sequences(X_train) #gibt eine list von listen. die listen bestehen aus unterschiedliche länge.\n",
    "X_test = tokenizer.texts_to_sequences(X_test)"
   ]
  },
  {
   "cell_type": "code",
   "execution_count": 143,
   "id": "a27c009d",
   "metadata": {},
   "outputs": [
    {
     "data": {
      "image/png": "[encoded data removed]",
      "text/plain": [
       "<Figure size 640x480 with 1 Axes>"
      ]
     },
     "metadata": {},
     "output_type": "display_data"
    }
   ],
   "source": [
    "# Dazu zählen wir zunächst die Anzahl der Wörter in jedem Kommentare\n",
    "lengths = [len(x) for x in X_train]\n",
    "plt.hist(lengths, bins=100)\n",
    "plt.xlim(right=1500)  #die x werte beeinflussen\n",
    "plt.xlim(left=5)\n",
    "# plt.ylim(bottom=100)\n",
    "plt.xlabel('Number of words per Kommentar')\n",
    "plt.ylabel('Counts')\n",
    "plt.show()"
   ]
  },
  {
   "cell_type": "code",
   "execution_count": 144,
   "id": "f83309c4",
   "metadata": {},
   "outputs": [
    {
     "data": {
      "text/plain": [
       "2491"
      ]
     },
     "execution_count": 144,
     "metadata": {},
     "output_type": "execute_result"
    }
   ],
   "source": [
    "max(lengths)"
   ]
  },
  {
   "cell_type": "code",
   "execution_count": 145,
   "id": "4c3bf118",
   "metadata": {},
   "outputs": [
    {
     "data": {
      "text/plain": [
       "0"
      ]
     },
     "execution_count": 145,
     "metadata": {},
     "output_type": "execute_result"
    }
   ],
   "source": [
    "min(lengths)"
   ]
  },
  {
   "cell_type": "markdown",
   "id": "1d8ad985",
   "metadata": {},
   "source": [
    "**wie man von der Histogram sehen kann haben die meisten Sätzte von bis zu 300 Wörter. Von daher stelle ich für eine max Satzlänge: max_length =300 fest**"
   ]
  },
  {
   "cell_type": "code",
   "execution_count": 146,
   "id": "831e5838",
   "metadata": {},
   "outputs": [],
   "source": [
    "max_length=300"
   ]
  },
  {
   "cell_type": "markdown",
   "id": "fb857b18",
   "metadata": {},
   "source": [
    "## Pad_Sequences\n",
    "Füllt Sequenzen auf die gleiche Länge nämlich auf max_length=300 auf. Die Listen werden direkt in ein NumPy-Array umgewandelt."
   ]
  },
  {
   "cell_type": "code",
   "execution_count": 147,
   "id": "b4e65c60",
   "metadata": {},
   "outputs": [],
   "source": [
    "X_train = keras.preprocessing.sequence.pad_sequences(X_train,\n",
    "                                                     maxlen=max_length, padding='pre')\n",
    "X_test = keras.preprocessing.sequence.pad_sequences(X_test,\n",
    "                                                    maxlen=max_length, padding='pre') #truncating='post'"
   ]
  },
  {
   "cell_type": "code",
   "execution_count": 148,
   "id": "06e95cb7",
   "metadata": {},
   "outputs": [
    {
     "name": "stdout",
     "output_type": "stream",
     "text": [
      "Shapes von X_train und X_test: (22381, 300) (5596, 300)\n"
     ]
    }
   ],
   "source": [
    "print('Shapes von X_train und X_test:', X_train.shape, X_test.shape)"
   ]
  },
  {
   "cell_type": "code",
   "execution_count": 149,
   "id": "ffa09f16",
   "metadata": {},
   "outputs": [
    {
     "data": {
      "text/plain": [
       "(22381,)"
      ]
     },
     "execution_count": 149,
     "metadata": {},
     "output_type": "execute_result"
    }
   ],
   "source": [
    "y_test.shape\n",
    "y_train.shape"
   ]
  },
  {
   "cell_type": "markdown",
   "id": "4ae2632a",
   "metadata": {},
   "source": [
    "## Kalibrierung: \n",
    "Kalibrierung in Deep Learning bezieht sich auf den Prozess, den Schätzungen von Klassifikationsmodellen eine zusätzliche Bedeutung zu geben, indem sie mit den tatsächlichen Wahrscheinlichkeiten der Klassen verbunden werden. In der Praxis gibt es oft Unsicherheit in den Schätzungen von Modellen und die Kalibrierung versucht, diese Unsicherheit zu reduzieren.Kalibrierung ist ein wichtiger Schritt in der Modellbewertung und -auswahl, insbesondere für sicherheitskritische Anwendungen, wo es wichtig ist, dass die Schätzungen des Modells mit den tatsächlichen Wahrscheinlichkeiten übereinstimmen."
   ]
  },
  {
   "cell_type": "markdown",
   "id": "1ee826a1",
   "metadata": {},
   "source": [
    "### Daten aufbereiten\n",
    "Für die Kalibrierung des Modells legen wir zusätzlich 1000(500 von positive bzw. negative)\n",
    "Kommentare beiseite und entfernen diese aus den Testdaten."
   ]
  },
  {
   "cell_type": "code",
   "execution_count": 150,
   "id": "703fa30e",
   "metadata": {},
   "outputs": [
    {
     "data": {
      "text/plain": [
       "(5596, 300)"
      ]
     },
     "execution_count": 150,
     "metadata": {},
     "output_type": "execute_result"
    }
   ],
   "source": [
    "X_test.shape"
   ]
  },
  {
   "cell_type": "code",
   "execution_count": 247,
   "id": "ec5ced93",
   "metadata": {},
   "outputs": [],
   "source": [
    "num_calib = 500                                                      #~15% der Testdaten für die Kalibrierung\n",
    "calib_pos_indices = np.random.choice(\n",
    "    (np.argwhere(y_test == 0)).reshape(-1), size=num_calib, replace=False) #klarheit? +ve und -ve\n",
    "calib_neg_indices = np.random.choice(\n",
    "    (np.argwhere(y_test == 1)).reshape(-1), size=num_calib, replace=False)\n",
    "y_calib = np.concatenate(\n",
    "    (y_test[calib_pos_indices], y_test[calib_neg_indices]), axis=0)\n",
    "X_calib = np.concatenate(\n",
    "    (X_test[calib_pos_indices], X_test[calib_neg_indices]), axis=0)\n",
    "\n",
    "X_test = np.delete(X_test, np.concatenate(\n",
    "    (calib_pos_indices,calib_neg_indices)), axis=0)\n",
    "y_test = np.delete(y_test, np.concatenate(\n",
    "    (calib_pos_indices,calib_neg_indices)), axis=0)"
   ]
  },
  {
   "cell_type": "code",
   "execution_count": 152,
   "id": "6a968207",
   "metadata": {},
   "outputs": [
    {
     "name": "stdout",
     "output_type": "stream",
     "text": [
      "Shapes von calib_pos_indices und calib_neg_ind: (500,) (500,)\n",
      "Shapes von X_calib und y_calib: (1000, 300) (1000,)\n",
      "Shapes von X_test und y_test: (4596, 300) (4596,)\n"
     ]
    }
   ],
   "source": [
    "print('Shapes von calib_pos_indices und calib_neg_ind:', calib_pos_indices.shape, calib_neg_indices.shape)\n",
    "print('Shapes von X_calib und y_calib:', X_calib.shape, y_calib.shape)\n",
    "print('Shapes von X_test und y_test:', X_test.shape, y_test.shape) #neue X_test und y_test "
   ]
  },
  {
   "cell_type": "code",
   "execution_count": 153,
   "id": "450cf8f2",
   "metadata": {},
   "outputs": [
    {
     "name": "stdout",
     "output_type": "stream",
     "text": [
      "Number of positive tweets: 11295\n",
      "Number of negative tweets: 11086\n"
     ]
    }
   ],
   "source": [
    "# Zählen wie viele Datenpunkte es noch pro Klasse gibt\n",
    "len_pos = len(y_train[y_train == 0])\n",
    "len_neg = len(y_train[y_train == 1])\n",
    "print('Number of positive tweets:', len_pos)\n",
    "print('Number of negative tweets:', len_neg)"
   ]
  },
  {
   "cell_type": "code",
   "execution_count": 154,
   "id": "2e97b7b7",
   "metadata": {},
   "outputs": [
    {
     "data": {
      "text/plain": [
       "5001"
      ]
     },
     "execution_count": 154,
     "metadata": {},
     "output_type": "execute_result"
    }
   ],
   "source": [
    "# Anzahl der Wörter aus dem Tokenizer + 1 für die Nullen aus dem Padding\n",
    "num_words = num_words + 1\n",
    "num_words= 5000 + 1\n",
    "num_words #wird input für das Model"
   ]
  },
  {
   "cell_type": "markdown",
   "id": "7564e787",
   "metadata": {},
   "source": [
    "## Modell erstellen und fitten\n",
    "Ich werde ein Sequential-Model in Keras erstellen.Die erste Schicht wandelt durch ein Embedding die Wörter (Integer) in Wort-Vektoren um.\n",
    "Die Nullen des Paddings können maskiert werden und werden dadurch in der folgenden LSTM-Schicht ignoriert. Sie werden beim Abarbeiten der Zeitreihe einfach ausgelassen.Die LSTM-Schichten analysieren die Reihenfolge und Zusammenhänge der Wörter\n",
    "Durch return_sequences=False wird jede Sequenz auf einen einzelnen Wert reduziert.Anschließend werden diese Werte noch durch zwei Dense-Schichten analysiert Es wird eine einzelne Zahl ausgegeben, welche durch die Sigmoid-Aktivierung\n",
    "zwischen 0 und 1 liegt. 1 für negative Kommentare und 0 für positive Kommentare."
   ]
  },
  {
   "cell_type": "code",
   "execution_count": 155,
   "id": "d7b38ad7",
   "metadata": {},
   "outputs": [],
   "source": [
    "# Die Dimensionen der Wort-Vektoren in der Embedding-schicht definieren\n",
    "word_vector_length = 3  #wird frei festgestellt"
   ]
  },
  {
   "cell_type": "code",
   "execution_count": 156,
   "id": "825c9485",
   "metadata": {},
   "outputs": [
    {
     "name": "stdout",
     "output_type": "stream",
     "text": [
      "Model: \"sequential_2\"\n",
      "_________________________________________________________________\n",
      " Layer (type)                Output Shape              Param #   \n",
      "=================================================================\n",
      " embedding_1 (Embedding)     (None, 300, 3)            15003     \n",
      "                                                                 \n",
      " lstm_2 (LSTM)               (None, 300, 50)           10800     \n",
      "                                                                 \n",
      " lstm_3 (LSTM)               (None, 50)                20200     \n",
      "                                                                 \n",
      " dense_2 (Dense)             (None, 50)                2550      \n",
      "                                                                 \n",
      " dense_3 (Dense)             (None, 1)                 51        \n",
      "                                                                 \n",
      "=================================================================\n",
      "Total params: 48,604\n",
      "Trainable params: 48,604\n",
      "Non-trainable params: 0\n",
      "_________________________________________________________________\n"
     ]
    }
   ],
   "source": [
    "model = keras.Sequential() #erste Schicht bekommt input_shape argument.\n",
    "model.add(keras.layers.Embedding(num_words,word_vector_length,  # num_words ist Anzahl der häufigsten unique wörter bzw.neuronen\n",
    "                                 input_length=max_length,mask_zero=True))  #params für die erste schicht 5000*3\n",
    "model.add(keras.layers.LSTM(50, return_sequences=True, dropout=0.2, #wird output shape wird None, 300,50. 50 wegen units,200=max_leng\n",
    "                            recurrent_dropout=0.2))\n",
    "model.add(keras.layers.LSTM(50, return_sequences=False, dropout=0.2, #von diesen schicht werde ich wieder 50 neuron als output haben. d.h sie werden als input für die nächste Denseschicht.\n",
    "                            recurrent_dropout=0.2))\n",
    "model.add(keras.layers.Dense(50, activation='relu'))\n",
    "model.add(keras.layers.Dense(1, activation='sigmoid'))\n",
    "\n",
    "# Eigenschaften des neuronalen Netzes für die Optimierung festlegen\n",
    "model.compile(optimizer='Adam', loss='binary_crossentropy', metrics='accuracy')\n",
    "model.summary()\n"
   ]
  },
  {
   "cell_type": "code",
   "execution_count": 157,
   "id": "b53e70c3",
   "metadata": {},
   "outputs": [
    {
     "name": "stdout",
     "output_type": "stream",
     "text": [
      "Epoch 1/10\n",
      "224/224 [==============================] - 221s 963ms/step - loss: 0.4044 - accuracy: 0.8200 - val_loss: 0.2445 - val_accuracy: 0.9062\n",
      "Epoch 2/10\n",
      "224/224 [==============================] - 215s 959ms/step - loss: 0.2231 - accuracy: 0.9154 - val_loss: 0.2244 - val_accuracy: 0.9175\n",
      "Epoch 3/10\n",
      "224/224 [==============================] - 219s 979ms/step - loss: 0.1866 - accuracy: 0.9290 - val_loss: 0.2105 - val_accuracy: 0.9195\n",
      "Epoch 4/10\n",
      "224/224 [==============================] - 218s 974ms/step - loss: 0.1668 - accuracy: 0.9365 - val_loss: 0.2145 - val_accuracy: 0.9204\n",
      "Epoch 5/10\n",
      "224/224 [==============================] - 216s 965ms/step - loss: 0.1584 - accuracy: 0.9413 - val_loss: 0.2201 - val_accuracy: 0.9193\n",
      "Epoch 6/10\n",
      "224/224 [==============================] - 220s 984ms/step - loss: 0.1528 - accuracy: 0.9429 - val_loss: 0.2380 - val_accuracy: 0.9138\n",
      "Epoch 7/10\n",
      "224/224 [==============================] - 221s 986ms/step - loss: 0.1480 - accuracy: 0.9449 - val_loss: 0.2370 - val_accuracy: 0.9138\n",
      "Epoch 8/10\n",
      "224/224 [==============================] - 219s 977ms/step - loss: 0.1415 - accuracy: 0.9475 - val_loss: 0.2313 - val_accuracy: 0.9191\n",
      "Epoch 9/10\n",
      "224/224 [==============================] - 218s 974ms/step - loss: 0.1376 - accuracy: 0.9498 - val_loss: 0.2444 - val_accuracy: 0.9110\n",
      "Epoch 10/10\n",
      "224/224 [==============================] - 220s 981ms/step - loss: 0.1286 - accuracy: 0.9527 - val_loss: 0.2757 - val_accuracy: 0.9123\n"
     ]
    }
   ],
   "source": [
    "history=model.fit(X_train, y_train, epochs=10, validation_data=(X_test, y_test), \n",
    "                  batch_size=100,verbose=1)"
   ]
  },
  {
   "cell_type": "markdown",
   "id": "2144bc5c",
   "metadata": {},
   "source": [
    "## Model Evaluation\n",
    "\n",
    "da ich ein Klassifikationsmodell habe, habe ich für die Bewertung des Models die übliche Metriken: **Accuracy- und Fehlerrate** verwendt. Genauigkeit:misst, wie oft das Modell die richtige Vorhersage trifft, im Verhältnis zu der Gesamtzahl der Vorhersagen.Fehlerrate(error rate): Das Gegenteil von Genauigkeit, es misst die Häufigkeit, mit der das Modell die falsche Vorhersage trifft."
   ]
  },
  {
   "cell_type": "code",
   "execution_count": 40,
   "id": "4cdd7f28",
   "metadata": {},
   "outputs": [],
   "source": [
    "# history= model.history\n",
    "# Epoche 8 sieht gut aus"
   ]
  },
  {
   "cell_type": "code",
   "execution_count": 41,
   "id": "7640f921",
   "metadata": {},
   "outputs": [],
   "source": [
    "#LSTM\n",
    "#Epoch 5/5\n",
    "#loss: 0.1282 - accuracy: 0.9546 - val_loss: 0.2343 - val_accuracy: 0.9118"
   ]
  },
  {
   "cell_type": "code",
   "execution_count": 42,
   "id": "27c4222d",
   "metadata": {},
   "outputs": [],
   "source": [
    "#SimpleRNN\n",
    "#Epoch 5/5\n",
    "#224/224 - 53s 236ms/step - loss: 0.6318 - accuracy: 0.6564 - val_loss: 0.6191 - val_accuracy: 0.6727"
   ]
  },
  {
   "cell_type": "markdown",
   "id": "2960fc55",
   "metadata": {},
   "source": [
    "**Zwieschen Fazit:** \n",
    "\n",
    "Auswahl der Recurrent Schichten spielt eine größe Rolle. In 5 Epochen hat das model mit LSTM Val_accuracy von 91% geschafft, während mit SimpleRNN nur 67% schaffte.SimpleRNN und LSTM sind beide Arten von Recurrent Neural Networks (RNNs), die verwendet werden, um mit sequentiellen Daten wie Text oder Zeitreihen zu arbeiten. Der Unterschied besteht darin, wie sie die Informationen über die Zeit behalten. SimpleRNN hat Schwierigkeiten, langfristige Abhängigkeiten(in diesem Fall haben wir 300 Wörter) zu behalten, da es nur einen einfachen Feedforward-Mechanismus hat, um die Informationen zu speichern. Im Gegensatz dazu verwendet LSTM einen \"memory cell\" und spezielle \"input\", \"forget\" und \"output\" Gates, um die Informationen über die Zeit zu speichern und zu regulieren, was es besser dazu befähigt, langfristige Abhängigkeiten zu behalten."
   ]
  },
  {
   "cell_type": "code",
   "execution_count": 158,
   "id": "e8a74506",
   "metadata": {},
   "outputs": [],
   "source": [
    "# model.save('mental_health_model.h5')"
   ]
  },
  {
   "cell_type": "code",
   "execution_count": 159,
   "id": "87ff2e39",
   "metadata": {},
   "outputs": [],
   "source": [
    "from keras.models import load_model\n",
    "model = load_model(r'C:\\Users\\alfa\\Desktop\\Michael\\Deep Learning\\woche_4\\projekt arbeit\\mental_health_model.h5')"
   ]
  },
  {
   "cell_type": "markdown",
   "id": "e5163b9b",
   "metadata": {},
   "source": [
    "### die Entwicklung von Loss , Accuracy und Val_acc über die Epochen hinweg mit Hilfe von Matplotlib grafisch darstellen."
   ]
  },
  {
   "cell_type": "code",
   "execution_count": 160,
   "id": "752dc49e",
   "metadata": {},
   "outputs": [
    {
     "data": {
      "text/plain": [
       "{'verbose': 1, 'epochs': 10, 'steps': 224}"
      ]
     },
     "execution_count": 160,
     "metadata": {},
     "output_type": "execute_result"
    }
   ],
   "source": [
    "history.params"
   ]
  },
  {
   "cell_type": "code",
   "execution_count": 161,
   "id": "da5e430d",
   "metadata": {},
   "outputs": [
    {
     "data": {
      "text/plain": [
       "dict_keys(['loss', 'accuracy', 'val_loss', 'val_accuracy'])"
      ]
     },
     "execution_count": 161,
     "metadata": {},
     "output_type": "execute_result"
    }
   ],
   "source": [
    "history.history.keys()"
   ]
  },
  {
   "cell_type": "code",
   "execution_count": 240,
   "id": "57e11f56",
   "metadata": {},
   "outputs": [],
   "source": [
    "?plt.plot"
   ]
  },
  {
   "cell_type": "code",
   "execution_count": 182,
   "id": "77d3943c",
   "metadata": {},
   "outputs": [
    {
     "data": {
      "image/png": "[encoded data removed]",
      "text/plain": [
       "<Figure size 640x480 with 1 Axes>"
      ]
     },
     "metadata": {},
     "output_type": "display_data"
    }
   ],
   "source": [
    "plt.plot(history.history['accuracy'], 'g' ,\n",
    "          label='Training_Accu')\n",
    "plt.plot(history.history['val_accuracy'],\n",
    "         'r--', label='Test_val_acc')\n",
    "plt.plot(history.history['loss'], 'y',\n",
    "          label='Training_loss')\n",
    "plt.plot(history.history['val_loss'],\n",
    "         'r--', label='Test_val_loss')\n",
    "plt.xlabel('Epochs', loc='center')\n",
    "plt.title('Accuracy und losses für die Training-und Validationdaten')\n",
    "plt.legend()\n",
    "plt.show()"
   ]
  },
  {
   "cell_type": "markdown",
   "id": "1875be56",
   "metadata": {},
   "source": [
    "### Embedding als 3D-Plot visualisieren\n",
    "\n",
    "Embedding ermöglicht es, kategoriale Variablen durch Vektoren von kleineren Dimensionen darzustellen, die in einen numerischen Vektorraum eingebettet sind. Dies ermöglicht es dem Modell, ähnliche kategoriale Werte in ähnlichen Vektoren zu repräsentieren und so eine bessere Leistung bei Aufgaben wie Klassifizierung oder Regression zu erzielen."
   ]
  },
  {
   "cell_type": "code",
   "execution_count": 183,
   "id": "c6d6abda",
   "metadata": {},
   "outputs": [
    {
     "data": {
      "text/plain": [
       "<tf.Variable 'embedding_1/embeddings:0' shape=(5001, 3) dtype=float32, numpy=\n",
       "array([[ 0.03369499,  0.01689884,  0.01549002],\n",
       "       [ 0.00921391, -0.00283631,  0.00487134],\n",
       "       [-0.03790823, -0.02149635, -0.01131101],\n",
       "       ...,\n",
       "       [-0.00672817, -0.06347913, -0.02548843],\n",
       "       [ 0.02465663, -0.02776539,  0.00914372],\n",
       "       [ 0.0258492 , -0.03746257, -0.04357092]], dtype=float32)>"
      ]
     },
     "execution_count": 183,
     "metadata": {},
     "output_type": "execute_result"
    }
   ],
   "source": [
    "model.layers\n",
    "model.layers[0].weights[0] #Params der erste embeding schicht"
   ]
  },
  {
   "cell_type": "code",
   "execution_count": 185,
   "id": "173298f4",
   "metadata": {
    "scrolled": true
   },
   "outputs": [
    {
     "name": "stdout",
     "output_type": "stream",
     "text": [
      "4/4 [==============================] - 0s 3ms/step\n"
     ]
    },
    {
     "data": {
      "image/png": "[encoded data removed]",
      "text/plain": [
       "<Figure size 640x480 with 2 Axes>"
      ]
     },
     "metadata": {},
     "output_type": "display_data"
    }
   ],
   "source": [
    "# Die ersten 100 häufigsten Wörter abbilden\n",
    "n = 100\n",
    "X_embed = model.layers[0](np.arange(n+1)) #von den 1001 werden nur 100 ausgewählt\n",
    "y_embed = model.predict(np.arange(n+1).reshape(-1, 1))\n",
    "\n",
    "\n",
    "# 1. Dimension der Wort-Vektoren auf der X-Achse,\n",
    "# 2. Dimension auf der y-Achse, 3. Dimension auf der Z-Achse abbilden\n",
    "ax = plt.figure().add_subplot(projection='3d')\n",
    "\n",
    "ax.view_init(10, 20)\n",
    "ax.scatter3D(X_embed[:, 0], X_embed[:, 1],\n",
    "             X_embed[:, 2], c=y_embed, cmap='coolwarm')\n",
    "for i in range(100):\n",
    "    ax.text(X_embed[i+1, 0], X_embed[i+1, 1], X_embed[i+1, 2],\n",
    "            list(tokenizer.word_index.keys())[i])\n",
    "PCM = ax.get_children()[0]\n",
    "cbar = plt.colorbar(PCM, ax=ax)\n",
    "\n",
    "cbar.set_label('<-  )-:  positive        Sentiment        negative  (-:  ->',\n",
    "               color=[0, 0, 0])\n",
    "plt.show()"
   ]
  },
  {
   "cell_type": "markdown",
   "id": "f20178d7",
   "metadata": {},
   "source": [
    "### Confusion-Matrix darstellen\n",
    "Konfusionsmatrix berechnen, um die Genauigkeit der Klassifizierung detailiert zu bewerten.D.h um zu bewerten ob positive und negative Kommentare gleich gut prognostiziert werden und zu bewerten wie oft das model Korrekt und Falsch ist."
   ]
  },
  {
   "cell_type": "code",
   "execution_count": 187,
   "id": "63ef9362",
   "metadata": {},
   "outputs": [
    {
     "data": {
      "text/plain": [
       "(4596, 300)"
      ]
     },
     "execution_count": 187,
     "metadata": {},
     "output_type": "execute_result"
    }
   ],
   "source": [
    "X_test.shape"
   ]
  },
  {
   "cell_type": "code",
   "execution_count": 188,
   "id": "2ad99ad0",
   "metadata": {},
   "outputs": [
    {
     "name": "stdout",
     "output_type": "stream",
     "text": [
      "144/144 [==============================] - 9s 60ms/step\n"
     ]
    }
   ],
   "source": [
    "#zunächst werde ich das Model auf den Test daten anwenden und diesen auf Ganzzahlen runden(klasse 1 und 0).\n",
    "y_pred = model.predict(X_test)\n",
    "y_pred = np.round(y_pred, 0)"
   ]
  },
  {
   "cell_type": "code",
   "execution_count": 195,
   "id": "c3fccb2e",
   "metadata": {},
   "outputs": [
    {
     "data": {
      "text/plain": [
       "(4596, 1)"
      ]
     },
     "execution_count": 195,
     "metadata": {},
     "output_type": "execute_result"
    }
   ],
   "source": [
    "y_pred.shape\n",
    "# type(y_pred)"
   ]
  },
  {
   "cell_type": "code",
   "execution_count": 194,
   "id": "8c02ef55",
   "metadata": {},
   "outputs": [
    {
     "data": {
      "text/plain": [
       "(4596,)"
      ]
     },
     "execution_count": 194,
     "metadata": {},
     "output_type": "execute_result"
    }
   ],
   "source": [
    "y_test.shape\n",
    "# type(y_test)"
   ]
  },
  {
   "cell_type": "code",
   "execution_count": 196,
   "id": "6b693217",
   "metadata": {},
   "outputs": [
    {
     "data": {
      "image/png": "[encoded data removed]",
      "text/plain": [
       "<Figure size 640x480 with 2 Axes>"
      ]
     },
     "metadata": {},
     "output_type": "display_data"
    }
   ],
   "source": [
    "#Dann confusion_matrix instanz erstellen\n",
    "cm = confusion_matrix(y_test, y_pred, normalize='true')    #Test daten\n",
    "disp = ConfusionMatrixDisplay(confusion_matrix=cm)\n",
    "disp.plot()\n",
    "plt.show()\n",
    "# Sehr Schlecht! Das model wieder nur mit 8 epochen fitten: Beide -ve und +ve haben schlechte Acc. und naturlich die \n",
    "#kalibrierung "
   ]
  },
  {
   "cell_type": "code",
   "execution_count": 236,
   "id": "24884de3",
   "metadata": {},
   "outputs": [
    {
     "name": "stdout",
     "output_type": "stream",
     "text": [
      "Genauigkeit: 0.9122807017543859\n",
      "Fehlerrate: 0.08771929824561403\n"
     ]
    }
   ],
   "source": [
    "TP=0.91\n",
    "TN=0.91\n",
    "FP=0.089\n",
    "FN=0.086\n",
    "Genauigkeit=(TP + TN)/(TP+TN+FP+FN)\n",
    "Fehlerrate=(FP + FN) / (TP + TN + FP + FN)\n",
    "print('Genauigkeit:', Genauigkeit)\n",
    "print('Fehlerrate:', Fehlerrate)"
   ]
  },
  {
   "cell_type": "markdown",
   "id": "6abd2ae7",
   "metadata": {},
   "source": [
    "**Zwieschen Fazit:** \n",
    "\n",
    "das Model hat 91% einsen und nullen korrekt vorhergesagt(im Verhältnis zu der Gesamtzahl der Vorhersage) d.h 91 mal von 100 sagt das Model korrekt vor, während 8,7% einsen und nullen Falsch vorhergesagte.\n",
    "    FN und FP sind auch ungefähr gleich."
   ]
  },
  {
   "cell_type": "code",
   "execution_count": 237,
   "id": "4e8ef2b2",
   "metadata": {},
   "outputs": [
    {
     "data": {
      "text/plain": [
       "array([0., 0., 0., 0., 0., 0., 0., 0., 0., 0., 0., 0., 0., 0., 0., 0., 0.,\n",
       "       0., 0., 0., 0., 0., 0., 0., 0., 0., 0., 0., 0., 0., 0., 0., 0., 0.,\n",
       "       0., 0., 0., 0., 0., 0., 0., 0., 0., 0., 0., 0., 0., 0., 0., 0., 0.,\n",
       "       0., 0., 0., 0., 0., 0., 0., 0., 0., 0., 0., 0., 0., 0., 0., 0., 0.,\n",
       "       0., 0., 0., 0., 0., 0., 0., 0., 0., 0., 0., 0., 0., 0., 0., 0., 0.,\n",
       "       0., 0., 0., 0., 0., 0., 0., 0., 0., 0., 0., 0., 0., 0., 0., 0., 0.,\n",
       "       0., 0., 0., 0., 0., 0., 0., 0., 0., 0., 0., 0., 0., 0., 0., 0., 0.,\n",
       "       0., 0., 0., 0., 0., 0., 0., 0., 0., 0., 0., 0., 0., 0., 0., 0., 0.,\n",
       "       0., 0., 0., 0., 0., 0., 0., 0., 0., 0., 0., 0., 0., 0., 0., 0., 0.,\n",
       "       0., 0., 0., 0., 0., 0., 0., 0., 0., 0., 0., 0., 0., 0., 0., 0., 0.,\n",
       "       0., 0., 0., 0., 0., 0., 0., 0., 0., 0., 0., 0., 0., 0., 0., 0., 0.,\n",
       "       0., 0., 0., 0., 0., 0., 0., 0., 0., 0., 0., 0., 0., 0., 0., 0., 0.,\n",
       "       0., 0., 0., 0., 0., 0., 0., 0., 0., 0., 0., 0., 0., 0., 0., 0., 0.,\n",
       "       0., 0., 0., 0., 0., 0., 0., 0., 0., 0., 0., 0., 0., 0., 0., 0., 0.,\n",
       "       0., 0., 0., 0., 0., 0., 0., 0., 0., 0., 0., 0., 0., 0., 0., 0., 0.,\n",
       "       0., 0., 0., 0., 0., 0., 0., 0., 0., 0., 0., 0., 0., 0., 0., 0., 0.,\n",
       "       0., 0., 0., 0., 0., 0., 0., 0., 0., 0., 0., 0., 0., 0., 0., 0., 0.,\n",
       "       0., 0., 0., 0., 0., 0., 0., 0., 0., 0., 0., 0., 0., 0., 0., 0., 0.,\n",
       "       0., 0., 0., 0., 0., 0., 0., 0., 0., 0., 0., 0., 0., 0., 0., 0., 0.,\n",
       "       0., 0., 0., 0., 0., 0., 0., 0., 0., 0., 0., 0., 0., 0., 0., 0., 0.,\n",
       "       0., 0., 0., 0., 0., 0., 0., 0., 0., 0., 0., 0., 0., 0., 0., 0., 0.,\n",
       "       0., 0., 0., 0., 0., 0., 0., 0., 0., 0., 0., 0., 0., 0., 0., 0., 0.,\n",
       "       0., 0., 0., 0., 0., 0., 0., 0., 0., 0., 0., 0., 0., 0., 0., 0., 0.,\n",
       "       0., 0., 0., 0., 0., 0., 0., 0., 0., 0., 0., 0., 0., 0., 0., 0., 0.,\n",
       "       0., 0., 0., 0., 0., 0., 0., 0., 0., 0., 0., 0., 0., 0., 0., 0., 0.,\n",
       "       0., 0., 0., 0., 0., 0., 0., 0., 0., 0., 0., 0., 0., 0., 0., 0., 0.,\n",
       "       0., 0., 0., 0., 0., 0., 0., 0., 0., 0., 0., 0., 0., 0., 0., 0., 0.,\n",
       "       0., 0., 0., 0., 0., 0., 0., 0., 0., 0., 0., 0., 0., 0., 0., 0., 0.,\n",
       "       0., 0., 0., 0., 0., 0., 0., 0., 0., 0., 0., 0., 0., 0., 0., 0., 0.,\n",
       "       0., 0., 0., 0., 0., 0., 0., 1., 1., 1., 1., 1., 1., 1., 1., 1., 1.,\n",
       "       1., 1., 1., 1., 1., 1., 1., 1., 1., 1., 1., 1., 1., 1., 1., 1., 1.,\n",
       "       1., 1., 1., 1., 1., 1., 1., 1., 1., 1., 1., 1., 1., 1., 1., 1., 1.,\n",
       "       1., 1., 1., 1., 1., 1., 1., 1., 1., 1., 1., 1., 1., 1., 1., 1., 1.,\n",
       "       1., 1., 1., 1., 1., 1., 1., 1., 1., 1., 1., 1., 1., 1., 1., 1., 1.,\n",
       "       1., 1., 1., 1., 1., 1., 1., 1., 1., 1., 1., 1., 1., 1., 1., 1., 1.,\n",
       "       1., 1., 1., 1., 1., 1., 1., 1., 1., 1., 1., 1., 1., 1., 1., 1., 1.,\n",
       "       1., 1., 1., 1., 1., 1., 1., 1., 1., 1., 1., 1., 1., 1., 1., 1., 1.,\n",
       "       1., 1., 1., 1., 1., 1., 1., 1., 1., 1., 1., 1., 1., 1., 1., 1., 1.,\n",
       "       1., 1., 1., 1., 1., 1., 1., 1., 1., 1., 1., 1., 1., 1., 1., 1., 1.,\n",
       "       1., 1., 1., 1., 1., 1., 1., 1., 1., 1., 1., 1., 1., 1., 1., 1., 1.,\n",
       "       1., 1., 1., 1., 1., 1., 1., 1., 1., 1., 1., 1., 1., 1., 1., 1., 1.,\n",
       "       1., 1., 1., 1., 1., 1., 1., 1., 1., 1., 1., 1., 1., 1., 1., 1., 1.,\n",
       "       1., 1., 1., 1., 1., 1., 1., 1., 1., 1., 1., 1., 1., 1., 1., 1., 1.,\n",
       "       1., 1., 1., 1., 1., 1., 1., 1., 1., 1., 1., 1., 1., 1., 1., 1., 1.,\n",
       "       1., 1., 1., 1., 1., 1., 1., 1., 1., 1., 1., 1., 1., 1., 1., 1., 1.,\n",
       "       1., 1., 1., 1., 1., 1., 1., 1., 1., 1., 1., 1., 1., 1., 1., 1., 1.,\n",
       "       1., 1., 1., 1., 1., 1., 1., 1., 1., 1., 1., 1., 1., 1., 1., 1., 1.,\n",
       "       1., 1., 1., 1., 1., 1., 1., 1., 1., 1., 1., 1., 1., 1., 1., 1., 1.,\n",
       "       1., 1., 1., 1., 1., 1., 1., 1., 1., 1., 1., 1., 1., 1., 1., 1., 1.,\n",
       "       1., 1., 1., 1., 1., 1., 1., 1., 1., 1., 1., 1., 1., 1., 1., 1., 1.,\n",
       "       1., 1., 1., 1., 1., 1., 1., 1., 1., 1., 1., 1., 1., 1., 1., 1., 1.,\n",
       "       1., 1., 1., 1., 1., 1., 1., 1., 1., 1., 1., 1., 1., 1., 1., 1., 1.,\n",
       "       1., 1., 1., 1., 1., 1., 1., 1., 1., 1., 1., 1., 1., 1., 1., 1., 1.,\n",
       "       1., 1., 1., 1., 1., 1., 1., 1., 1., 1., 1., 1., 1., 1., 1., 1., 1.,\n",
       "       1., 1., 1., 1., 1., 1., 1., 1., 1., 1., 1., 1., 1., 1., 1., 1., 1.,\n",
       "       1., 1., 1., 1., 1., 1., 1., 1., 1., 1., 1., 1., 1., 1., 1., 1., 1.,\n",
       "       1., 1., 1., 1., 1., 1., 1., 1., 1., 1., 1., 1., 1., 1., 1., 1., 1.,\n",
       "       1., 1., 1., 1., 1., 1., 1., 1., 1., 1., 1., 1., 1., 1., 1., 1., 1.,\n",
       "       1., 1., 1., 1., 1., 1., 1., 1., 1., 1., 1., 1., 1., 1.],\n",
       "      dtype=float32)"
      ]
     },
     "execution_count": 237,
     "metadata": {},
     "output_type": "execute_result"
    }
   ],
   "source": [
    "X_calib.shape\n",
    "y_calib"
   ]
  },
  {
   "cell_type": "markdown",
   "id": "c93fe924",
   "metadata": {},
   "source": [
    "### Probability Calibration"
   ]
  },
  {
   "cell_type": "code",
   "execution_count": 248,
   "id": "4f348bb1",
   "metadata": {},
   "outputs": [
    {
     "name": "stdout",
     "output_type": "stream",
     "text": [
      "32/32 [==============================] - 2s 75ms/step\n"
     ]
    },
    {
     "data": {
      "image/png": "[encoded data removed]",
      "text/plain": [
       "<Figure size 640x480 with 1 Axes>"
      ]
     },
     "metadata": {},
     "output_type": "display_data"
    }
   ],
   "source": [
    "#Calibration Curve (reliability diagrams)\n",
    "y_pred = model.predict(X_calib)\n",
    "n_bins = 10\n",
    "y_means, proba_means = calibration_curve(                       #y_means=prob_true und prob_pred=proba_means\n",
    "    y_calib, y_pred, n_bins=n_bins, strategy='quantile') #qua\n",
    "\n",
    "plt.plot([0, 1], [0, 1], linestyle='--', label='Perfect calibration')\n",
    "plt.plot(proba_means, y_means, label='Our model')#y_means=prob_true und proba_means=prob_pred(predicted probabilities)\n",
    "plt.xlabel('Prediction from neural net') \n",
    "plt.ylabel('Fraction of positive Kommentare')                      #Fraction of -ve Kommentare?\n",
    "plt.legend()\n",
    "plt.show()"
   ]
  },
  {
   "cell_type": "code",
   "execution_count": 249,
   "id": "2dc833a9",
   "metadata": {},
   "outputs": [
    {
     "name": "stdout",
     "output_type": "stream",
     "text": [
      "---------------Calibration---------------\n",
      "Prediction of x_calib before calibration 0.0060236785\n",
      "Prediction of x_calib before calibration 0.040475916813260515\n"
     ]
    },
    {
     "data": {
      "image/png": "[encoded data removed]",
      "text/plain": [
       "<Figure size 640x480 with 1 Axes>"
      ]
     },
     "metadata": {},
     "output_type": "display_data"
    }
   ],
   "source": [
    "#post_prozessing\n",
    "# Als Kalibrierungsmodell wird gerne eine isotonische Regression verwendet,\n",
    "# diese erstellt eine Ausgleichskurve welche monoton steigt\n",
    "ir = IsotonicRegression()\n",
    "ir.fit(proba_means.reshape(-1, 1), y_means)\n",
    "print('-'*15+'Calibration'+'-'*15)\n",
    "print('Prediction of x_calib before calibration', y_pred[0, 0])\n",
    "\n",
    "y_pred_calib = ir.transform(y_pred)\n",
    "print('Prediction of x_calib before calibration', y_pred_calib[0]) \n",
    "\n",
    "y_calib=y_calib[y_pred_calib>0]\n",
    "# y_calib=y_calib[y_pred_calib==y_pred_calib]\n",
    "y_pred_calib=y_pred_calib[y_pred_calib>0]\n",
    "# y_pred_calib=y_pred_calib[y_pred_calib==y_pred_calib]\n",
    "\n",
    "y_means_calib, proba_means_calib = calibration_curve(\n",
    "    y_calib, y_pred_calib, n_bins=n_bins, strategy='quantile')\n",
    "\n",
    "plt.plot([0, 1], [0, 1], linestyle='--', label='Perfect calibration')\n",
    "plt.plot(proba_means, y_means, label='Our model')\n",
    "plt.plot(proba_means_calib, y_means_calib, label='After calibration')\n",
    "plt.xlabel('Prediction from neural net')\n",
    "plt.ylabel('Fraction of positive Kommentare')              \n",
    "plt.legend()\n",
    "plt.show()"
   ]
  },
  {
   "cell_type": "code",
   "execution_count": null,
   "id": "00cc15d5",
   "metadata": {},
   "outputs": [],
   "source": [
    "#Eigenes Beispiel beurteilen"
   ]
  },
  {
   "cell_type": "code",
   "execution_count": 268,
   "id": "7740dbce",
   "metadata": {},
   "outputs": [],
   "source": [
    "# example=[\"hey hurry hurry the time is going. please don't waste any more time!\"]\n",
    "example=[\"I Hope you like it!\"]"
   ]
  },
  {
   "cell_type": "code",
   "execution_count": 266,
   "id": "3933c156",
   "metadata": {},
   "outputs": [
    {
     "name": "stdout",
     "output_type": "stream",
     "text": [
      "Tokenized and padded sequence: [[  0   0   0   0   0   0   0   0   0   0   0   0   0   0   0   0   0   0\n",
      "    0   0   0   0   0   0   0   0   0   0   0   0   0   0   0   0   0   0\n",
      "    0   0   0   0   0   0   0   0   0   0   0   0   0   0   0   0   0   0\n",
      "    0   0   0   0   0   0   0   0   0   0   0   0   0   0   0   0   0   0\n",
      "    0   0   0   0   0   0   0   0   0   0   0   0   0   0   0   0   0   0\n",
      "    0   0   0   0   0   0   0   0   0   0   0   0   0   0   0   0   0   0\n",
      "    0   0   0   0   0   0   0   0   0   0   0   0   0   0   0   0   0   0\n",
      "    0   0   0   0   0   0   0   0   0   0   0   0   0   0   0   0   0   0\n",
      "    0   0   0   0   0   0   0   0   0   0   0   0   0   0   0   0   0   0\n",
      "    0   0   0   0   0   0   0   0   0   0   0   0   0   0   0   0   0   0\n",
      "    0   0   0   0   0   0   0   0   0   0   0   0   0   0   0   0   0   0\n",
      "    0   0   0   0   0   0   0   0   0   0   0   0   0   0   0   0   0   0\n",
      "    0   0   0   0   0   0   0   0   0   0   0   0   0   0   0   0   0   0\n",
      "    0   0   0   0   0   0   0   0   0   0   0   0   0   0   0   0   0   0\n",
      "    0   0   0   0   0   0   0   0   0   0   0   0   0   0   0   0   0   0\n",
      "    0   0   0   0   0   0   0   0   0   0   0   0   0   0   0   0   0   0\n",
      "    0   0   0   0   0   0   0 173 162 169   2  16]]\n",
      "1/1 [==============================] - 0s 71ms/step\n",
      "Prediction before calibration: 0.09465788\n",
      "Prediction after calibration: 0.16688103202383936\n",
      "\n",
      "Kommentar is rather positive\n"
     ]
    }
   ],
   "source": [
    "# Tokenizing\n",
    "encoded_docs = tokenizer.texts_to_sequences(example)\n",
    "\n",
    "# Padding\n",
    "padded_docs = keras.preprocessing.sequence.pad_sequences(encoded_docs,\n",
    "                                                         maxlen=max_length, padding='pre')\n",
    "print('Tokenized and padded sequence:', padded_docs)\n",
    "\n",
    "\n",
    "# Benutzung der Sentiment-Analyse\n",
    "result = model.predict(padded_docs)\n",
    "print('Prediction before calibration:', result[0, 0])\n",
    "\n",
    "# Das Ergebnis durch die Kalibrierung nochmal leicht anpassen\n",
    "result = ir.transform(result)\n",
    "\n",
    "print('Prediction after calibration:', result[0])\n",
    "print()\n",
    "if result[0] < 0.5:  # 1 negative, 0 positive\n",
    "    print('Kommentar is rather positive')\n",
    "else:\n",
    "    print('Kommentar is rather negative')"
   ]
  }
 ],
 "metadata": {
  "kernelspec": {
   "display_name": "Python 3 (ipykernel)",
   "language": "python",
   "name": "python3"
  },
  "language_info": {
   "codemirror_mode": {
    "name": "ipython",
    "version": 3
   },
   "file_extension": ".py",
   "mimetype": "text/x-python",
   "name": "python",
   "nbconvert_exporter": "python",
   "pygments_lexer": "ipython3",
   "version": "3.9.12"
  },
  "toc": {
   "base_numbering": 1,
   "nav_menu": {},
   "number_sections": true,
   "sideBar": true,
   "skip_h1_title": false,
   "title_cell": "Table of Contents",
   "title_sidebar": "Contents",
   "toc_cell": false,
   "toc_position": {
    "height": "calc(100% - 180px)",
    "left": "10px",
    "top": "150px",
    "width": "284.176px"
   },
   "toc_section_display": true,
   "toc_window_display": true
  }
 },
 "nbformat": 4,
 "nbformat_minor": 5
}
